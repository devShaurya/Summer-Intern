{
  "nbformat": 4,
  "nbformat_minor": 0,
  "metadata": {
    "kernelspec": {
      "display_name": "Python 3.6.8 64-bit",
      "language": "python",
      "name": "python36864bit83541234a61a433782f27299de680c1c"
    },
    "language_info": {
      "codemirror_mode": {
        "name": "ipython",
        "version": 3
      },
      "file_extension": ".py",
      "mimetype": "text/x-python",
      "name": "python",
      "nbconvert_exporter": "python",
      "pygments_lexer": "ipython3",
      "version": "3.6.8"
    },
    "colab": {
      "name": "Run Pix2Pix.ipynb",
      "provenance": [],
      "include_colab_link": true
    }
  },
  "cells": [
    {
      "cell_type": "markdown",
      "metadata": {
        "id": "view-in-github",
        "colab_type": "text"
      },
      "source": [
        "<a href=\"https://colab.research.google.com/github/devShaurya/Summer-Intern/blob/master/Run_Pix2Pix.ipynb\" target=\"_parent\"><img src=\"https://colab.research.google.com/assets/colab-badge.svg\" alt=\"Open In Colab\"/></a>"
      ]
    },
    {
      "cell_type": "markdown",
      "metadata": {
        "id": "ny71zKUNJsA5",
        "colab_type": "text"
      },
      "source": [
        "##Instructions for preparing data:- \n",
        "1. **Put the input data** in one of the directory \"A\" or \"B\" and output data in other directory. Divide each directory \"A\" and \"B\" into test, train and val. Name of each file should be like \"1.bmp\" or \"1.jpg\" like format. \n",
        "2. **Run git clone command** if this repo https://github.com/junyanz/pytorch-CycleGAN-and-pix2pix has not been cloned please clone it. >\n",
        "3. **Run  python command to run combine the data in A and B** To check options see the link https://github.com/junyanz/pytorch-CycleGAN-and-pix2pix/blob/master/docs/tips.md#prepare-your-own-datasets-for-pix2pix \n",
        "4. **If files are not of same size** add  im_A=cv2.resize(im_A,(512,512)) and im_B=cv2.resize(im_B,(512,512)) lines at line no. 47 and 48 in combine_A_and_B.py file. Size is second argument in cv2.resize command, change it acc. to your use\n",
        "5. change paths in the commands according to yourselves.\n"
      ]
    },
    {
      "cell_type": "code",
      "metadata": {
        "id": "dYQjTdnsJsA6",
        "colab_type": "code",
        "colab": {}
      },
      "source": [
        "!python ./pix2pixcyclegan/datasets/combine_A_and_B.py --fold_A ./cubicasa5k/A --fold_B ./cubicasa5k/B --fold_AB ./cubicasa5k/AB --num_imgs 3934"
      ],
      "execution_count": null,
      "outputs": []
    },
    {
      "cell_type": "markdown",
      "metadata": {
        "id": "Po6i1BxYJsBB",
        "colab_type": "text"
      },
      "source": [
        "## Instructions for running model:-\n",
        "1. **Run pip install commands** The ones just below. If anyother libraries are missing, just add !pip install {library_name}\n",
        "2. **Run git clone command** if this repo https://github.com/junyanz/pytorch-CycleGAN-and-pix2pix has not been cloned please clone it.\n",
        "3. **Run pix2pix command** \n",
        "        a.  \"dataroot\" option sets data directory ( or where you have stored AB mapping).\n",
        "        b.  \"name\" option sets name of the directory where models and result images of epochs would be saved.\n",
        "        c.  \"checkpoints_dir\" option sets folder where the \"name\" folder is created\n",
        "        d.  \"model\" sets the model to be used.\n",
        "        e.  \"direction\" sets direction towards which model will run for generation like producing B like images from A. So \"direction\" would be AtoB\n",
        "        f.  \"display_id\" option is used to see the results after epochs. if no display screen is available like in AWS instance or Colab then set it to -1\n",
        "        g.  For other options checkout this link https://github.com/junyanz/pytorch-CycleGAN-and-pix2pix/blob/master/docs/tips.md#notes-on-colorization or open tips.md inside the docs folder of the cloned pix2pix directory"
      ]
    },
    {
      "cell_type": "code",
      "metadata": {
        "id": "lwj1oK0zJsBC",
        "colab_type": "code",
        "colab": {},
        "outputId": "c88d6012-6e0d-4167-b605-b394aaedf1ff"
      },
      "source": [
        "!pip install visdom"
      ],
      "execution_count": null,
      "outputs": [
        {
          "output_type": "stream",
          "text": [
            "Collecting visdom\n",
            "  Downloading visdom-0.1.8.9.tar.gz (676 kB)\n",
            "Requirement already satisfied: numpy>=1.8 in e:\\sem6\\computervision\\cv\\lib\\site-packages (from visdom) (1.18.1)\n",
            "Requirement already satisfied: scipy in e:\\sem6\\computervision\\cv\\lib\\site-packages (from visdom) (1.4.1)\n",
            "Collecting requests\n",
            "  Using cached requests-2.24.0-py2.py3-none-any.whl (61 kB)\n",
            "Requirement already satisfied: tornado in e:\\sem6\\computervision\\cv\\lib\\site-packages (from visdom) (6.0.4)\n",
            "Requirement already satisfied: pyzmq in e:\\sem6\\computervision\\cv\\lib\\site-packages (from visdom) (19.0.0)\n",
            "Requirement already satisfied: six in e:\\sem6\\computervision\\cv\\lib\\site-packages (from visdom) (1.14.0)\n",
            "Collecting jsonpatch\n",
            "  Downloading jsonpatch-1.26-py2.py3-none-any.whl (11 kB)\n",
            "Collecting torchfile\n",
            "  Downloading torchfile-0.1.0.tar.gz (5.2 kB)\n",
            "Collecting websocket-client\n",
            "  Downloading websocket_client-0.57.0-py2.py3-none-any.whl (200 kB)\n",
            "Collecting pillow\n",
            "  Using cached Pillow-7.1.2-cp36-cp36m-win_amd64.whl (2.0 MB)\n",
            "Collecting idna<3,>=2.5\n",
            "  Using cached idna-2.9-py2.py3-none-any.whl (58 kB)\n",
            "Collecting certifi>=2017.4.17\n",
            "  Downloading certifi-2020.6.20-py2.py3-none-any.whl (156 kB)\n",
            "Collecting urllib3!=1.25.0,!=1.25.1,<1.26,>=1.21.1\n",
            "  Using cached urllib3-1.25.9-py2.py3-none-any.whl (126 kB)\n",
            "Collecting chardet<4,>=3.0.2\n",
            "  Using cached chardet-3.0.4-py2.py3-none-any.whl (133 kB)\n",
            "Collecting jsonpointer>=1.9\n",
            "  Downloading jsonpointer-2.0-py2.py3-none-any.whl (7.6 kB)\n",
            "Building wheels for collected packages: visdom, torchfile\n",
            "  Building wheel for visdom (setup.py): started\n",
            "  Building wheel for visdom (setup.py): finished with status 'done'\n",
            "  Created wheel for visdom: filename=visdom-0.1.8.9-py3-none-any.whl size=655257 sha256=5b1ae17545c4847e91b9d8b968e51a6a0d5227279fd04ef62c36dcf392b5a859\n",
            "  Stored in directory: c:\\users\\shaurya agarawal\\appdata\\local\\pip\\cache\\wheels\\2d\\cd\\fb\\005445070865d4e45365b2946ee88085a7392370f152cf371c\n",
            "  Building wheel for torchfile (setup.py): started\n",
            "  Building wheel for torchfile (setup.py): finished with status 'done'\n",
            "  Created wheel for torchfile: filename=torchfile-0.1.0-py3-none-any.whl size=5716 sha256=386c6d2195eaf0e4c190fb600f03f90b1379a4e6967a93bbdf6f39b9126f25f1\n",
            "  Stored in directory: c:\\users\\shaurya agarawal\\appdata\\local\\pip\\cache\\wheels\\55\\79\\ec\\084a3a2e348d72852cc0c13c559c923c13ca54db86e699b681\n",
            "Successfully built visdom torchfile\n",
            "Installing collected packages: idna, certifi, urllib3, chardet, requests, jsonpointer, jsonpatch, torchfile, websocket-client, pillow, visdom\n",
            "Successfully installed certifi-2020.6.20 chardet-3.0.4 idna-2.9 jsonpatch-1.26 jsonpointer-2.0 pillow-7.1.2 requests-2.24.0 torchfile-0.1.0 urllib3-1.25.9 visdom-0.1.8.9 websocket-client-0.57.0\n"
          ],
          "name": "stdout"
        },
        {
          "output_type": "stream",
          "text": [
            "WARNING: You are using pip version 20.0.2; however, version 20.1.1 is available.\n",
            "You should consider upgrading via the 'E:\\SEM6\\ComputerVision\\CV\\Scripts\\python.exe -m pip install --upgrade pip' command.\n"
          ],
          "name": "stderr"
        }
      ]
    },
    {
      "cell_type": "code",
      "metadata": {
        "id": "lI5PvxHhJsBH",
        "colab_type": "code",
        "colab": {},
        "outputId": "c5a355af-7327-4138-b853-d65b9eff4af7"
      },
      "source": [
        "!pip install dominate"
      ],
      "execution_count": null,
      "outputs": [
        {
          "output_type": "stream",
          "text": [
            "Collecting dominate\n",
            "  Downloading dominate-2.5.1-py2.py3-none-any.whl (29 kB)\n",
            "Installing collected packages: dominate\n",
            "Successfully installed dominate-2.5.1\n"
          ],
          "name": "stdout"
        },
        {
          "output_type": "stream",
          "text": [
            "WARNING: You are using pip version 20.0.2; however, version 20.1.1 is available.\n",
            "You should consider upgrading via the 'E:\\SEM6\\ComputerVision\\CV\\Scripts\\python.exe -m pip install --upgrade pip' command.\n"
          ],
          "name": "stderr"
        }
      ]
    },
    {
      "cell_type": "code",
      "metadata": {
        "id": "S_mGT55aJsBK",
        "colab_type": "code",
        "colab": {},
        "outputId": "90e2feae-1131-4837-e37f-a76e39225a69"
      },
      "source": [
        "!git clone https://github.com/junyanz/pytorch-CycleGAN-and-pix2pix.git"
      ],
      "execution_count": null,
      "outputs": [
        {
          "output_type": "stream",
          "text": [
            "Cloning into 'pytorch-CycleGAN-and-pix2pix'...\n"
          ],
          "name": "stderr"
        }
      ]
    },
    {
      "cell_type": "code",
      "metadata": {
        "id": "OKJnoRkeJsBO",
        "colab_type": "code",
        "colab": {}
      },
      "source": [
        "!python ./pix2pixcyclegan/train.py --dataroot ./AB/ --name PlanGenv4 --checkpoints_dir ./pix2pixcyclegan/checkpointsDir --model pix2pix --direction AtoB --display_id -1 --batch_size 2  --save_epoch_freq 5 --n_epochs 10"
      ],
      "execution_count": null,
      "outputs": []
    }
  ]
}