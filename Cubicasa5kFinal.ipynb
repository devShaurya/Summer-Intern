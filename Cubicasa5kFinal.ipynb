{
  "nbformat": 4,
  "nbformat_minor": 0,
  "metadata": {
    "colab": {
      "name": "Cubicasa5kFinal",
      "provenance": [],
      "mount_file_id": "https://github.com/devShaurya/Summer-Intern/blob/master/Cubicasa5kFinal.ipynb",
      "authorship_tag": "ABX9TyOGMXAV1uOmJ85LPwQMXMMr",
      "include_colab_link": true
    },
    "kernelspec": {
      "name": "python3",
      "display_name": "Python 3"
    }
  },
  "cells": [
    {
      "cell_type": "markdown",
      "metadata": {
        "id": "view-in-github",
        "colab_type": "text"
      },
      "source": [
        "<a href=\"https://colab.research.google.com/github/devShaurya/Summer-Intern/blob/master/Cubicasa5kFinal.ipynb\" target=\"_parent\"><img src=\"https://colab.research.google.com/assets/colab-badge.svg\" alt=\"Open In Colab\"/></a>"
      ]
    },
    {
      "cell_type": "markdown",
      "metadata": {
        "id": "g0njkxreHZgZ",
        "colab_type": "text"
      },
      "source": [
        "## Initial Download and Prepare Dataset"
      ]
    },
    {
      "cell_type": "markdown",
      "metadata": {
        "id": "VomsWRZi_XSR",
        "colab_type": "text"
      },
      "source": [
        "### Download the Dataset"
      ]
    },
    {
      "cell_type": "code",
      "metadata": {
        "id": "5l90PeHw_eeB",
        "colab_type": "code",
        "colab": {}
      },
      "source": [
        "!wget -N https://zenodo.org/record/2613548/files/cubicasa5k.zip?download=1 -O cubicasa5k.zip"
      ],
      "execution_count": null,
      "outputs": []
    },
    {
      "cell_type": "code",
      "metadata": {
        "id": "83JY1uNn_gxf",
        "colab_type": "code",
        "colab": {}
      },
      "source": [
        "!unzip cubicasa5k.zip -d cubicasa5k/"
      ],
      "execution_count": null,
      "outputs": []
    },
    {
      "cell_type": "code",
      "metadata": {
        "id": "X776dRg7_smQ",
        "colab_type": "code",
        "colab": {}
      },
      "source": [
        "%cd cubicasa5k"
      ],
      "execution_count": null,
      "outputs": []
    },
    {
      "cell_type": "markdown",
      "metadata": {
        "id": "jJrkTjTpALiA",
        "colab_type": "text"
      },
      "source": [
        "I renamed the folder here inside the top cubicasa5k directory to \"cubicasa5kData\""
      ]
    },
    {
      "cell_type": "code",
      "metadata": {
        "id": "dFtAbeoX_l-j",
        "colab_type": "code",
        "colab": {}
      },
      "source": [
        "!git clone https://github.com/CubiCasa/CubiCasa5k CubiCasa5kCode  ## clone the code of cubicasa5k to CubiCasa5kCode directory inside cubicasa5k "
      ],
      "execution_count": null,
      "outputs": []
    },
    {
      "cell_type": "code",
      "metadata": {
        "id": "hnK8BvTpCqHf",
        "colab_type": "code",
        "colab": {}
      },
      "source": [
        "!mkdir cubicasa5k_masks"
      ],
      "execution_count": null,
      "outputs": []
    },
    {
      "cell_type": "markdown",
      "metadata": {
        "id": "0rjlJehF8pPb",
        "colab_type": "text"
      },
      "source": [
        "### Change the directory to the directory where code is saved"
      ]
    },
    {
      "cell_type": "code",
      "metadata": {
        "id": "V1fE0ASS9ixy",
        "colab_type": "code",
        "colab": {
          "base_uri": "https://localhost:8080/",
          "height": 34
        },
        "outputId": "0766734b-43b8-4dda-fcad-fa8de8af2234"
      },
      "source": [
        "%cd \"/content/drive/My Drive/Accenture Summer Intern/cubicasa5k/CubiCasa5kCode\""
      ],
      "execution_count": null,
      "outputs": [
        {
          "output_type": "stream",
          "text": [
            "/content/drive/My Drive/Accenture Summer Intern/cubicasa5k/CubiCasa5kCode\n"
          ],
          "name": "stdout"
        }
      ]
    },
    {
      "cell_type": "markdown",
      "metadata": {
        "id": "uRWXDVWPBW4L",
        "colab_type": "text"
      },
      "source": [
        "### Install and import libraries"
      ]
    },
    {
      "cell_type": "code",
      "metadata": {
        "id": "wvp_7ce2BXUj",
        "colab_type": "code",
        "colab": {
          "base_uri": "https://localhost:8080/",
          "height": 188
        },
        "outputId": "a0a0291e-8b14-4757-d9fb-d2ab7f4e301e"
      },
      "source": [
        "!pip install svgpathtools"
      ],
      "execution_count": null,
      "outputs": [
        {
          "output_type": "stream",
          "text": [
            "Collecting svgpathtools\n",
            "\u001b[?25l  Downloading https://files.pythonhosted.org/packages/71/96/cc91050f3b53c2cea0eda18f371d0584e7f43713ce606738384e8001a877/svgpathtools-1.3.3-py2.py3-none-any.whl (50kB)\n",
            "\u001b[K     |████████████████████████████████| 51kB 928kB/s \n",
            "\u001b[?25hRequirement already satisfied: numpy in /usr/local/lib/python3.6/dist-packages (from svgpathtools) (1.18.5)\n",
            "Collecting svgwrite\n",
            "\u001b[?25l  Downloading https://files.pythonhosted.org/packages/1c/85/1dc25b36c3ac4f3fe285d33065fc0f2ea7bdfb9209d6369e01a3e8ef6252/svgwrite-1.4-py3-none-any.whl (66kB)\n",
            "\u001b[K     |████████████████████████████████| 71kB 2.2MB/s \n",
            "\u001b[?25hInstalling collected packages: svgwrite, svgpathtools\n",
            "Successfully installed svgpathtools-1.3.3 svgwrite-1.4\n"
          ],
          "name": "stdout"
        }
      ]
    },
    {
      "cell_type": "code",
      "metadata": {
        "id": "bqDOD58kBeD5",
        "colab_type": "code",
        "colab": {}
      },
      "source": [
        "import lmdb\n",
        "import os\n",
        "import pickle\n",
        "import argparse\n",
        "import logging\n",
        "import numpy as np\n",
        "from datetime import datetime\n",
        "from tqdm import tqdm\n",
        "from floortrans.loaders.svg_loader import FloorplanSVG\n",
        "import cv2\n",
        "import matplotlib.pyplot as plt\n",
        "from PIL import Image\n",
        "import shutil\n",
        "import random"
      ],
      "execution_count": null,
      "outputs": []
    },
    {
      "cell_type": "markdown",
      "metadata": {
        "id": "DjmOzo1MCPJ5",
        "colab_type": "text"
      },
      "source": [
        "### Save masks"
      ]
    },
    {
      "cell_type": "code",
      "metadata": {
        "id": "XZiy6f0DDHEG",
        "colab_type": "code",
        "colab": {}
      },
      "source": [
        "def saveMasksCubicasa(textFilePath):\n",
        "    data = FloorplanSVG(\"/content/drive/My Drive/Accenture Summer Intern/cubicasa5k/cubicasa5kData/\",textFilePath, format='txt', original_size=True)    \n",
        "    folders = np.genfromtxt(\"/content/drive/My Drive/Accenture Summer Intern/cubicasa5k/cubicasa5kData/{}\".format(textFilePath), dtype='str')\n",
        "    path = \"/content/drive/My Drive/Accenture Summer Intern/cubicasa5k/cubicasa5k\"\n",
        "    total=0\n",
        "    for i, f in tqdm(enumerate(folders), total=len(folders)):\n",
        "        arr=f.strip('/').split('/')\n",
        "        imPath=path+'_masks/'+arr[0]+'_masks/'+arr[-1]+'/'\n",
        "        if len(os.listdir(path+'/'+arr[0]))==0:\n",
        "            continue\n",
        "        if not os.path.exists(imPath):\n",
        "            os.mkdir(imPath)\n",
        "        try:\n",
        "            label=np.array(data[i][\"label\"])\n",
        "            floorMask=label[0,:,:]\n",
        "            iconMask=label[1,:,:]\n",
        "            cv2.imwrite(imPath+\"room_mask.bmp\",floorMask)\n",
        "            cv2.imwrite(imPath+\"icon_mask.bmp\",iconMask)\n",
        "            total+=1\n",
        "        except:\n",
        "            continue\n",
        "    return total"
      ],
      "execution_count": null,
      "outputs": []
    },
    {
      "cell_type": "code",
      "metadata": {
        "id": "W5E8tBbIDWXW",
        "colab_type": "code",
        "colab": {}
      },
      "source": [
        "# textFilePath=\"test.txt\"\n",
        "# test=saveMasksCubicasa(textFilePath)\n",
        "# textFilePath=\"val.txt\"\n",
        "# val=saveMasksCubicasa(textFilePath)\n",
        "# textFilePath=\"train.txt\"\n",
        "# train=saveMasksCubicasa(textFilePath)"
      ],
      "execution_count": null,
      "outputs": []
    },
    {
      "cell_type": "markdown",
      "metadata": {
        "id": "5JB9V3aTDXbI",
        "colab_type": "text"
      },
      "source": [
        "###Save walls"
      ]
    },
    {
      "cell_type": "code",
      "metadata": {
        "id": "wVP6ZFGXDc3C",
        "colab_type": "code",
        "colab": {}
      },
      "source": [
        "def wallGT(path):\n",
        "    path=path.rstrip('/')\n",
        "    folders=os.listdir(path)\n",
        "    for ind,folder in tqdm(enumerate(folders),total=len(folders)):\n",
        "        try:\n",
        "            roomMaskPath=path+'/'+folder+'/'+\"room_mask.bmp\"\n",
        "            roomMask=cv2.imread(roomMaskPath)\n",
        "            roomMask=roomMask[:,:,0]\n",
        "            roomMask[roomMask!=2]=255\n",
        "            roomMask[roomMask!=255]=0\n",
        "            wallMask=path+'/'+folder+'/'+'wall_mask.bmp'\n",
        "            cv2.imwrite(wallMask,roomMask)\n",
        "        # return folder\n",
        "        except:\n",
        "            continue\n",
        "        # break\n",
        "    print(\"completed\")"
      ],
      "execution_count": null,
      "outputs": []
    },
    {
      "cell_type": "code",
      "metadata": {
        "id": "oaulSKe8Dd66",
        "colab_type": "code",
        "colab": {}
      },
      "source": [
        "# room=wallGT(\"/content/drive/My Drive/Accenture Summer Intern/cubicasa5k/cubicasa5k_masks/colorful_masks\")\n",
        "# room=wallGT(\"/content/drive/My Drive/Accenture Summer Intern/cubicasa5k/cubicasa5k_masks/high_quality_masks\")\n",
        "# room=wallGT(\"/content/drive/My Drive/Accenture Summer Intern/cubicasa5k/cubicasa5k_masks/high_quality_architectural_masks\")"
      ],
      "execution_count": null,
      "outputs": []
    },
    {
      "cell_type": "markdown",
      "metadata": {
        "id": "7mQNULSjD0sr",
        "colab_type": "text"
      },
      "source": [
        "### Remove Empty Folders\n",
        "1. colorful had 56 empty"
      ]
    },
    {
      "cell_type": "code",
      "metadata": {
        "id": "WGjZR2V-D4rO",
        "colab_type": "code",
        "colab": {}
      },
      "source": [
        "def removeEmpty(typed):\n",
        "    path=\"/content/drive/My Drive/Accenture Summer Intern/cubicasa5k/cubicasa5k_masks/{}_masks\".format(typed)    \n",
        "    folders=[folder for folder in os.listdir(path)]\n",
        "    origPath=\"/content/drive/My Drive/Accenture Summer Intern/cubicasa5k/cubicasa5kData/{}\".format(typed)\n",
        "    delDir=[]\n",
        "    for folder in folders:\n",
        "        # print(folder)\n",
        "        if len(os.listdir('{}/{}'.format(path,folder)))==0 and len(os.listdir('{}/{}'.format(origPath,folder)))==0:\n",
        "            delDir.append(folder)\n",
        "            os.rmdir(\"{}/{}\".format(path,folder))\n",
        "            # break\n",
        "    return len(delDir)"
      ],
      "execution_count": null,
      "outputs": []
    },
    {
      "cell_type": "code",
      "metadata": {
        "id": "P9usgCz0EC1J",
        "colab_type": "code",
        "colab": {}
      },
      "source": [
        "x1=removeEmpty(\"high_quality_architectural\")\n",
        "x2=removeEmpty(\"high_quality\")\n",
        "x3=removeEmpty(\"colorful\")"
      ],
      "execution_count": null,
      "outputs": []
    },
    {
      "cell_type": "markdown",
      "metadata": {
        "id": "6WaY8LAlEYsK",
        "colab_type": "text"
      },
      "source": [
        "### Remove with more than one floor plan\n",
        "\n",
        "\n",
        "1.   high_quality had 204 such plans\n",
        "\n",
        "2.    high_quality_architectural had such 754 plans\n",
        "\n",
        "3.   color had 53 such plans"
      ]
    },
    {
      "cell_type": "code",
      "metadata": {
        "id": "fRGxim2eEbF7",
        "colab_type": "code",
        "colab": {}
      },
      "source": [
        "def giveFolders(typed):\n",
        "    approved=[\"model.svg\",\"F1_scaled.png\",\"F1_original.png\"]\n",
        "    path=\"/content/drive/My Drive/Accenture Summer Intern/cubicasa5k/cubicasa5kData/{}/\".format(typed)\n",
        "    maskPath=\"/content/drive/My Drive/Accenture Summer Intern/cubicasa5k/cubicasa5k_masks/{}_masks/\".format(typed)\n",
        "    folders=[folder+'/' for folder in os.listdir(path)]\n",
        "    toDel=[]\n",
        "    for folder in folders:\n",
        "        files=os.listdir(path+folder)\n",
        "        for file in files:\n",
        "            if(file not in approved):\n",
        "                toDel.append(folder)\n",
        "                if os.path.exists(maskPath+folder):\n",
        "                    shutil.rmtree(maskPath+folder)\n",
        "                break\n",
        "    return toDel"
      ],
      "execution_count": null,
      "outputs": []
    },
    {
      "cell_type": "code",
      "metadata": {
        "id": "-xI_ELp7EkJ-",
        "colab_type": "code",
        "colab": {}
      },
      "source": [
        "x1=giveFolders(\"colorful\")\n",
        "x2=giveFolders(\"high_quality\")\n",
        "x3=giveFolders(\"high_quality_architectural\")"
      ],
      "execution_count": null,
      "outputs": []
    },
    {
      "cell_type": "markdown",
      "metadata": {
        "id": "DHn5aFBGEzJE",
        "colab_type": "text"
      },
      "source": [
        ""
      ]
    },
    {
      "cell_type": "markdown",
      "metadata": {
        "id": "VYA1HaK1oJcC",
        "colab_type": "text"
      },
      "source": [
        "### Mixing labels (outside and railing)"
      ]
    },
    {
      "cell_type": "code",
      "metadata": {
        "id": "GrRYqS-joI08",
        "colab_type": "code",
        "colab": {}
      },
      "source": [
        "def mixRailandOut(typed):\n",
        "    path=\"/content/drive/My Drive/Accenture Summer Intern/cubicasa5k/cubicasa5k_masks/{}_masks/\".format(typed)\n",
        "    folders=[folder+'/' for folder in os.listdir(path)]\n",
        "    for folder in folders:\n",
        "        roomMask=np.array(Image.open(path+folder+'room_mask.bmp'))\n",
        "        iconMask=np.array(Image.open(path+folder+'icon_mask.bmp'))\n",
        "        roomMask[roomMask==8]=2\n",
        "        roomMask[roomMask==1]=11\n",
        "        Image.fromarray(roomMask).save(path+folder+'new_room_mask.bmp')"
      ],
      "execution_count": null,
      "outputs": []
    },
    {
      "cell_type": "code",
      "metadata": {
        "id": "fBtaYt7bqpqd",
        "colab_type": "code",
        "colab": {}
      },
      "source": [
        "mixRailandOut('colorful')"
      ],
      "execution_count": null,
      "outputs": []
    },
    {
      "cell_type": "code",
      "metadata": {
        "id": "ndwIdeJX3Q_Q",
        "colab_type": "code",
        "colab": {}
      },
      "source": [
        "mixRailandOut('high_quality')"
      ],
      "execution_count": null,
      "outputs": []
    },
    {
      "cell_type": "code",
      "metadata": {
        "id": "J2Ouzvj35gUv",
        "colab_type": "code",
        "colab": {}
      },
      "source": [
        "mixRailandOut('high_quality_architectural')"
      ],
      "execution_count": null,
      "outputs": []
    },
    {
      "cell_type": "markdown",
      "metadata": {
        "id": "-9kvQGB1srBp",
        "colab_type": "text"
      },
      "source": [
        "### Combine Door and Window"
      ]
    },
    {
      "cell_type": "code",
      "metadata": {
        "id": "wuDN2m56tjLr",
        "colab_type": "code",
        "colab": {}
      },
      "source": [
        "def combineDoorAndWind(typed):\n",
        "    path=\"/content/drive/My Drive/Accenture Summer Intern/cubicasa5k/cubicasa5k_masks/{}_masks/\".format(typed)\n",
        "    folders=[folder+'/' for folder in os.listdir(path)]\n",
        "    ### window 1 -> 12\n",
        "    ### door 2 -> 13\n",
        "    for folder in tqdm(folders):\n",
        "        roomMask=np.array(Image.open(path+folder+'new_room_mask.bmp'))\n",
        "        iconMask=np.array(Image.open(path+folder+'icon_mask.bmp'))\n",
        "        roomMask[iconMask==1]=12\n",
        "        roomMask[iconMask==2]=13\n",
        "        Image.fromarray(roomMask).save(path+folder+\"new_room_door_wind.bmp\")"
      ],
      "execution_count": null,
      "outputs": []
    },
    {
      "cell_type": "code",
      "metadata": {
        "id": "8KwrhGDZtt9O",
        "colab_type": "code",
        "colab": {}
      },
      "source": [
        "combineDoorAndWind('colorful')\n",
        "combineDoorAndWind('high_quality_architectural')\n",
        "combineDoorAndWind('high_quality')"
      ],
      "execution_count": null,
      "outputs": []
    },
    {
      "cell_type": "markdown",
      "metadata": {
        "id": "93Gn3bJ46yfz",
        "colab_type": "text"
      },
      "source": [
        "### Combine Furniture Labels"
      ]
    },
    {
      "cell_type": "code",
      "metadata": {
        "id": "qmDg76zqTG0K",
        "colab_type": "code",
        "colab": {}
      },
      "source": [
        "def combineFurnIcons(typed):\n",
        "    path=\"/content/drive/My Drive/Accenture Summer Intern/cubicasa5k/cubicasa5k_masks/{}_masks/\".format(typed)\n",
        "    folders=[folder+'/' for folder in os.listdir(path)]\n",
        "    ### closet:3 -> 14, \n",
        "    ### sink:6 -> 15, \n",
        "    ### bathtub:9 -> 16,\n",
        "    ### toilet:5 -> 17\n",
        "\n",
        "    for folder in folders:\n",
        "        roomMask=np.array(Image.open(path+folder+'new_room_door_wind.bmp'))\n",
        "        iconMask=np.array(Image.open(path+folder+'icon_mask.bmp'))\n",
        "        roomMask[iconMask==3]=14\n",
        "        roomMask[iconMask==6]=15\n",
        "        roomMask[iconMask==9]=16\n",
        "        roomMask[iconMask==5]=17\n",
        "        Image.fromarray(roomMask).save(path+folder+\"new_room_all.bmp\")"
      ],
      "execution_count": null,
      "outputs": []
    },
    {
      "cell_type": "code",
      "metadata": {
        "id": "dQg0JG0fTOn7",
        "colab_type": "code",
        "colab": {}
      },
      "source": [
        "combineFurnIcons('colorful')\n",
        "combineFurnIcons('high_quality_architectural')\n",
        "combineFurnIcons('high_quality')"
      ],
      "execution_count": null,
      "outputs": []
    },
    {
      "cell_type": "markdown",
      "metadata": {
        "id": "aoIMJBeANYQ2",
        "colab_type": "text"
      },
      "source": [
        "### Save New Wall masks\n"
      ]
    },
    {
      "cell_type": "code",
      "metadata": {
        "id": "oEeQu7a4Ne_X",
        "colab_type": "code",
        "colab": {}
      },
      "source": [
        "def getWall(image):\n",
        "    image=np.array(image)\n",
        "    newImage=np.zeros(image.shape)\n",
        "    newImage[newImage==0]=255\n",
        "    newImage[image==2]=0\n",
        "    return newImage"
      ],
      "execution_count": null,
      "outputs": []
    },
    {
      "cell_type": "code",
      "metadata": {
        "id": "RuzQe5z5XB1l",
        "colab_type": "code",
        "colab": {}
      },
      "source": [
        "def mainWall(typed):\n",
        "    path=\"/content/drive/My Drive/Accenture Summer Intern/cubicasa5k/cubicasa5k_masks/{}_masks/\".format(typed)\n",
        "    folders=[folder+'/' for folder in os.listdir(path)]\n",
        "    for folder in tqdm(folders):\n",
        "        roomMask=Image.open(path+folder+'new_room_mask.bmp')\n",
        "        wallMask=getWall(roomMask)\n",
        "        Image.fromarray(wallMask.astype(np.uint8)).save(path+folder+\"new_wall_mask.bmp\")"
      ],
      "execution_count": null,
      "outputs": []
    },
    {
      "cell_type": "code",
      "metadata": {
        "id": "8HTvhzTozbCw",
        "colab_type": "code",
        "colab": {
          "base_uri": "https://localhost:8080/",
          "height": 50
        },
        "outputId": "4dfacef2-fed6-4746-df4d-c68972121027"
      },
      "source": [
        "mainWall('colorful')"
      ],
      "execution_count": null,
      "outputs": [
        {
          "output_type": "stream",
          "text": [
            "100%|██████████| 168/168 [04:57<00:00,  1.77s/it]\n"
          ],
          "name": "stderr"
        },
        {
          "output_type": "execute_result",
          "data": {
            "text/plain": [
              "[]"
            ]
          },
          "metadata": {
            "tags": []
          },
          "execution_count": 4
        }
      ]
    },
    {
      "cell_type": "code",
      "metadata": {
        "id": "nbEDzPG4z7a4",
        "colab_type": "code",
        "colab": {
          "base_uri": "https://localhost:8080/",
          "height": 50
        },
        "outputId": "3db5723e-f57e-4a73-9a14-e59ffea930d7"
      },
      "source": [
        "mainWall('high_quality')"
      ],
      "execution_count": null,
      "outputs": [
        {
          "output_type": "stream",
          "text": [
            "100%|██████████| 788/788 [31:58<00:00,  2.43s/it]\n"
          ],
          "name": "stderr"
        },
        {
          "output_type": "execute_result",
          "data": {
            "text/plain": [
              "[]"
            ]
          },
          "metadata": {
            "tags": []
          },
          "execution_count": 5
        }
      ]
    },
    {
      "cell_type": "code",
      "metadata": {
        "id": "f0QKg4-A9D5D",
        "colab_type": "code",
        "colab": {
          "base_uri": "https://localhost:8080/",
          "height": 50
        },
        "outputId": "88847ef5-18e1-4485-f466-867867340ed5"
      },
      "source": [
        "mainWall('high_quality_architectural')"
      ],
      "execution_count": null,
      "outputs": [
        {
          "output_type": "stream",
          "text": [
            "100%|██████████| 2978/2978 [2:21:56<00:00,  2.86s/it]\n"
          ],
          "name": "stderr"
        },
        {
          "output_type": "execute_result",
          "data": {
            "text/plain": [
              "[]"
            ]
          },
          "metadata": {
            "tags": []
          },
          "execution_count": 6
        }
      ]
    },
    {
      "cell_type": "markdown",
      "metadata": {
        "id": "AoJSi-eRE84i",
        "colab_type": "text"
      },
      "source": [
        "### Save Boundary Masks"
      ]
    },
    {
      "cell_type": "code",
      "metadata": {
        "id": "LxvOTTOAFHcY",
        "colab_type": "code",
        "colab": {}
      },
      "source": [
        "def getBoundary(image):\n",
        "    wallImage=np.array(image).astype(np.uint8)\n",
        "    wallImage=cv2.bitwise_not(wallImage)\n",
        "    contour,hierarchy=cv2.findContours(wallImage,cv2.RETR_TREE,cv2.CHAIN_APPROX_SIMPLE)\n",
        "    plain=np.zeros((wallImage.shape[0],wallImage.shape[1],3),dtype=np.uint8)\n",
        "    return cv2.bitwise_not(cv2.drawContours(plain,contour,0,(255,255,255)))"
      ],
      "execution_count": null,
      "outputs": []
    },
    {
      "cell_type": "code",
      "metadata": {
        "id": "ufaamtCzFi7s",
        "colab_type": "code",
        "colab": {}
      },
      "source": [
        "def mainBoundary(typed):\n",
        "    path=\"/content/drive/My Drive/Accenture Summer Intern/cubicasa5k/cubicasa5k_masks/{}_masks/\".format(typed)\n",
        "    folders=[folder+'/' for folder in os.listdir(path)]\n",
        "    for folder in tqdm(folders):\n",
        "        wallMask=Image.open(path+folder+'new_wall_mask.bmp')\n",
        "        boundary=getBoundary(wallMask)\n",
        "        Image.fromarray(boundary.astype(np.uint8)).convert('L').save(path+folder+\"new_boundary_mask.bmp\")"
      ],
      "execution_count": null,
      "outputs": []
    },
    {
      "cell_type": "code",
      "metadata": {
        "id": "WcPjeBL3Gc39",
        "colab_type": "code",
        "colab": {}
      },
      "source": [
        "mainBoundary('colorful')"
      ],
      "execution_count": null,
      "outputs": []
    },
    {
      "cell_type": "code",
      "metadata": {
        "id": "ns-ZlcmfGfnt",
        "colab_type": "code",
        "colab": {}
      },
      "source": [
        "mainBoundary('high_quality')"
      ],
      "execution_count": null,
      "outputs": []
    },
    {
      "cell_type": "code",
      "metadata": {
        "id": "ihZRQu8pGjFT",
        "colab_type": "code",
        "colab": {
          "base_uri": "https://localhost:8080/",
          "height": 34
        },
        "outputId": "5b778e99-664d-4be6-c9f3-9873b1895b3f"
      },
      "source": [
        "mainBoundary('high_quality_architectural')"
      ],
      "execution_count": null,
      "outputs": [
        {
          "output_type": "stream",
          "text": [
            "100%|██████████| 2978/2978 [54:50<00:00,  1.10s/it]\n"
          ],
          "name": "stderr"
        }
      ]
    },
    {
      "cell_type": "markdown",
      "metadata": {
        "id": "UpaHmRUP7W8D",
        "colab_type": "text"
      },
      "source": [
        "### Save corners (Not implemented Completely)\n"
      ]
    },
    {
      "cell_type": "code",
      "metadata": {
        "id": "z-H45rDW7aVB",
        "colab_type": "code",
        "colab": {}
      },
      "source": [
        "def saveCornersCubicasa(textFilePath):\n",
        "    data = FloorplanSVG(\"/content/drive/My Drive/Accenture Summer Intern/cubicasa5k/cubicasa5kData/\",textFilePath, format='txt', original_size=True)    \n",
        "    folders = np.genfromtxt(\"/content/drive/My Drive/Accenture Summer Intern/cubicasa5k/cubicasa5kData/{}\".format(textFilePath), dtype='str')\n",
        "    path = \"/content/drive/My Drive/Accenture Summer Intern/cubicasa5k/cubicasa5k\"\n",
        "    total=0\n",
        "    print(data)\n",
        "    for i in range(len(folders)):\n",
        "        print(data[i]['label'])\n",
        "        break\n",
        "    # for i, f in tqdm(enumerate(folders), total=len(folders)):\n",
        "    #     arr=f.strip('/').split('/')\n",
        "    #     imPath=path+'_masks/'+arr[0]+'_masks/'+arr[-1]+'/'\n",
        "    #     if len(os.listdir(path+'/'+arr[0]))==0:\n",
        "    #         continue\n",
        "    #     if not os.path.exists(imPath):\n",
        "    #         os.mkdir(imPath)\n",
        "    #     try:\n",
        "    #         label=np.array(data[i][\"label\"])\n",
        "    #         floorMask=label[0,:,:]\n",
        "    #         iconMask=label[1,:,:]\n",
        "    #         cv2.imwrite(imPath+\"room_mask.bmp\",floorMask)\n",
        "    #         cv2.imwrite(imPath+\"icon_mask.bmp\",iconMask)\n",
        "    #         total+=1\n",
        "    #     except:\n",
        "    #         continue\n",
        "    # return total"
      ],
      "execution_count": null,
      "outputs": []
    },
    {
      "cell_type": "code",
      "metadata": {
        "id": "Q8w6ksAf7t3r",
        "colab_type": "code",
        "colab": {
          "base_uri": "https://localhost:8080/",
          "height": 286
        },
        "outputId": "e1bf17a4-cd65-4569-bb96-e5fd2a9d0683"
      },
      "source": [
        "saveCornersCubicasa(\"train.txt\")"
      ],
      "execution_count": null,
      "outputs": [
        {
          "output_type": "stream",
          "text": [
            "<floortrans.loaders.svg_loader.FloorplanSVG object at 0x7f554f206e80>\n",
            "tensor([[[0., 0., 0.,  ..., 0., 0., 0.],\n",
            "         [0., 0., 0.,  ..., 0., 0., 0.],\n",
            "         [0., 0., 0.,  ..., 0., 0., 0.],\n",
            "         ...,\n",
            "         [0., 0., 0.,  ..., 0., 0., 0.],\n",
            "         [0., 0., 0.,  ..., 0., 0., 0.],\n",
            "         [0., 0., 0.,  ..., 0., 0., 0.]],\n",
            "\n",
            "        [[0., 0., 0.,  ..., 0., 0., 0.],\n",
            "         [0., 0., 0.,  ..., 0., 0., 0.],\n",
            "         [0., 0., 0.,  ..., 0., 0., 0.],\n",
            "         ...,\n",
            "         [0., 0., 0.,  ..., 0., 0., 0.],\n",
            "         [0., 0., 0.,  ..., 0., 0., 0.],\n",
            "         [0., 0., 0.,  ..., 0., 0., 0.]]])\n"
          ],
          "name": "stdout"
        }
      ]
    },
    {
      "cell_type": "markdown",
      "metadata": {
        "id": "ONRDcUlCHgs2",
        "colab_type": "text"
      },
      "source": [
        "## Create A and B mapping for pix2pix"
      ]
    },
    {
      "cell_type": "markdown",
      "metadata": {
        "id": "OHFz7YfTHmOe",
        "colab_type": "text"
      },
      "source": [
        "### Follow the notebook in \"pix2pix repository\". It has instructions for creating AtoB mapping which is required for pix2pix code."
      ]
    },
    {
      "cell_type": "markdown",
      "metadata": {
        "id": "aX9jc1WHLVaQ",
        "colab_type": "text"
      },
      "source": [
        "Below code could be used to put the files in A directory. Just change paths according to yourselves"
      ]
    },
    {
      "cell_type": "code",
      "metadata": {
        "id": "422M3PHbLL98",
        "colab_type": "code",
        "colab": {}
      },
      "source": [
        "def putFilesInA():\n",
        "    pathColorful=\"/content/drive/My Drive/Accenture Summer Intern/cubicasa5k/cubicasa5k_masks/{}_masks/\".format('colorful')\n",
        "    pathHigh=\"/content/drive/My Drive/Accenture Summer Intern/cubicasa5k/cubicasa5k_masks/{}_masks/\".format('high_quality')\n",
        "    pathHighArch=\"/content/drive/My Drive/Accenture Summer Intern/cubicasa5k/cubicasa5k_masks/{}_masks/\".format('high_quality_architectural')\n",
        "    pathA=\"/content/drive/My Drive/Accenture Summer Intern/cubicasa5k/pix2pixv2/A/\"\n",
        "    foldersx=[pathColorful+folder+'/' for folder in os.listdir(pathColorful)]\n",
        "    foldersy=[pathHigh+folder+'/' for folder in os.listdir(pathHigh)]\n",
        "    foldersz=[pathHighArch+folder+'/' for folder in os.listdir(pathHighArch)]\n",
        "    folders=foldersx+foldersy+foldersz\n",
        "    folders.sort()\n",
        "    i=1\n",
        "    for folder in tqdm(folders):\n",
        "        shutil.copy(folder+\"new_boundary_mask.bmp\",pathA+str(i)+'.bmp')\n",
        "        i+=1"
      ],
      "execution_count": null,
      "outputs": []
    },
    {
      "cell_type": "markdown",
      "metadata": {
        "id": "G6oJ3pM4Lx3X",
        "colab_type": "text"
      },
      "source": [
        "Below code could be used to put the files in B directory. Just change paths according to yourselves. Change the color map \"d\" according to yourselves"
      ]
    },
    {
      "cell_type": "code",
      "metadata": {
        "id": "sfgDZSAaLngm",
        "colab_type": "code",
        "colab": {}
      },
      "source": [
        "\"\"\"\n",
        "0: ['Background'],\n",
        "2: ['Wall','Railing'] \n",
        "3: ['Kitchen'],\n",
        "4: ['Dining', 'EatingArea', 'LivingRoom', 'Lounge'],\n",
        "5: ['Bedroom'],\n",
        "6: ['Bath', 'Sauna'],\n",
        "7: ['DraughtLobby', 'Entry', 'HallWay'],\n",
        "9: ['Closet', 'DressingRoom', 'Storage'],\n",
        "10: ['CarPort', 'Garage'],\n",
        "11: [Other Rooms, 'Outside'],\n",
        "12:['Window'],\n",
        "13:['Door']\n",
        "\"\"\"\n",
        "def putFilesInB():\n",
        "    pathColorful=\"/content/drive/My Drive/Accenture Summer Intern/cubicasa5k/cubicasa5k_masks/{}_masks/\".format('colorful')\n",
        "    pathHigh=\"/content/drive/My Drive/Accenture Summer Intern/cubicasa5k/cubicasa5k_masks/{}_masks/\".format('high_quality')\n",
        "    pathHighArch=\"/content/drive/My Drive/Accenture Summer Intern/cubicasa5k/cubicasa5k_masks/{}_masks/\".format('high_quality_architectural')\n",
        "    pathB=\"/content/drive/My Drive/Accenture Summer Intern/cubicasa5k/pix2pixv2/B/\"\n",
        "    foldersx=[pathColorful+folder+'/' for folder in os.listdir(pathColorful)]\n",
        "    foldersy=[pathHigh+folder+'/' for folder in os.listdir(pathHigh)]\n",
        "    foldersz=[pathHighArch+folder+'/' for folder in os.listdir(pathHighArch)]\n",
        "    folders=foldersx+foldersy+foldersz\n",
        "    folders.sort()\n",
        "    i=1\n",
        "    d={0:[0,255,255],2:[0,0,0],3:[128,0,128],4:[0,0,255],5:[255,0,0],6:[255,255,0],\n",
        "       7:[0,100,0],9:[0,128,128], \n",
        "       10:[128,128,0],11:[255,165,0],12:[184,134,11],13:[160,82,45],\n",
        "       14:[224,255,255],15:[205,133,63],16:[112,128,144],17:[138,43,226]}\n",
        "    for folder in tqdm(folders):\n",
        "        if(os.path.exists(pathB+str(i)+\".bmp\")):\n",
        "            i+=1\n",
        "            continue\n",
        "        image=np.array(Image.open(folder+\"new_room_mask.bmp\"))\n",
        "        newImage=np.zeros((image.shape[0],image.shape[1],3),dtype=np.uint8)\n",
        "        for k in d:\n",
        "            newImage[np.where(image==k)]=d[k]\n",
        "        plt.imsave(pathB+str(i)+\".bmp\",newImage)\n",
        "        i+=1\n"
      ],
      "execution_count": 16,
      "outputs": []
    },
    {
      "cell_type": "markdown",
      "metadata": {
        "id": "--UXCyIXL6jq",
        "colab_type": "text"
      },
      "source": [
        "### make Train, test and val in A and B"
      ]
    },
    {
      "cell_type": "markdown",
      "metadata": {
        "id": "gcSvSVTvMTUC",
        "colab_type": "text"
      },
      "source": [
        "Below code can be used to make test,train and val directories inside cubicasa folder. Change path according to yourselves"
      ]
    },
    {
      "cell_type": "code",
      "metadata": {
        "id": "DtZ1KOrLUXMQ",
        "colab_type": "code",
        "colab": {}
      },
      "source": [
        "os.mkdir(\"/content/drive/My Drive/Accenture Summer Intern/cubicasa5k/pix2pix/A/train\")\n",
        "os.mkdir(\"/content/drive/My Drive/Accenture Summer Intern/cubicasa5k/pix2pix/B/train\")\n",
        "os.mkdir(\"/content/drive/My Drive/Accenture Summer Intern/cubicasa5k/pix2pix/A/val\")\n",
        "os.mkdir(\"/content/drive/My Drive/Accenture Summer Intern/cubicasa5k/pix2pix/B/val\")\n",
        "os.mkdir(\"/content/drive/My Drive/Accenture Summer Intern/cubicasa5k/pix2pix/A/test\")\n",
        "os.mkdir(\"/content/drive/My Drive/Accenture Summer Intern/cubicasa5k/pix2pix/B/test\")"
      ],
      "execution_count": null,
      "outputs": []
    },
    {
      "cell_type": "markdown",
      "metadata": {
        "id": "5SBc3o5YMnQn",
        "colab_type": "text"
      },
      "source": [
        "Below functions shuffles and split the data 85-10-5 ratio. Change path and ratio acc to yourselves"
      ]
    },
    {
      "cell_type": "code",
      "metadata": {
        "id": "OZc8kdxeDjA3",
        "colab_type": "code",
        "colab": {}
      },
      "source": [
        "def moveFiles(subFolder,files):\n",
        "    pathA=\"/content/drive/My Drive/Accenture Summer Intern/cubicasa5k/pix2pix/A/\"\n",
        "    pathB=\"/content/drive/My Drive/Accenture Summer Intern/cubicasa5k/pix2pix/B/\"\n",
        "    for i in tqdm(files):\n",
        "        currA=pathA+i\n",
        "        newA=pathA+subFolder+'/'+i\n",
        "        shutil.move(currA,newA)\n",
        "        currB=pathB+i\n",
        "        newB=pathB+subFolder+'/'+i\n",
        "        shutil.move(currB,newB)"
      ],
      "execution_count": null,
      "outputs": []
    },
    {
      "cell_type": "code",
      "metadata": {
        "id": "r2knyaP4sd_y",
        "colab_type": "code",
        "colab": {}
      },
      "source": [
        "def makeTrainTestVal(trainSplit=0.85,valSplit=0.1):\n",
        "    files=[str(i)+'.bmp' for i in range(1,3935)]\n",
        "    random.shuffle(files)\n",
        "    # trainSplit=0.85\n",
        "    # valSplit=0.1\n",
        "    # testSplit=0.05\n",
        "    trainFiles=files[:int(len(files)*trainSplit)]##\n",
        "    valFiles=files[int(len(files)*trainSplit):int(len(files)*(trainSplit+valSplit))]\n",
        "    testFiles=files[int(len(files)*trainSplit+valSplit):]\n",
        "    moveFiles('train',trainFiles)\n",
        "    moveFiles('test',testFiles)\n",
        "    moveFiles('val',valFiles)"
      ],
      "execution_count": null,
      "outputs": []
    },
    {
      "cell_type": "code",
      "metadata": {
        "id": "U1hr3PL3VmRo",
        "colab_type": "code",
        "colab": {}
      },
      "source": [
        "makeTrainTestVal()"
      ],
      "execution_count": null,
      "outputs": []
    }
  ]
}